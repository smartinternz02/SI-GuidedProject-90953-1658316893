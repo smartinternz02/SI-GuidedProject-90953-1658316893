{
 "cells": [
  {
   "cell_type": "code",
   "execution_count": 1,
   "id": "4b6dbc9b",
   "metadata": {},
   "outputs": [],
   "source": [
    "#Importng necessary libraries\n",
    "\n",
    "import numpy \n",
    "import tensorflow\n",
    "from tensorflow.keras.datasets import mnist\n",
    "from tensorflow.keras.models import Sequential\n",
    "from tensorflow.keras import layers\n",
    "from tensorflow.keras.layers import Dense, Flatten\n",
    "from tensorflow.keras.layers import Conv2D\n",
    "from keras.optimizers import Adam\n",
    "from keras.utils import np_utils"
   ]
  },
  {
   "cell_type": "code",
   "execution_count": 2,
   "id": "680c49c8",
   "metadata": {},
   "outputs": [],
   "source": [
    "#load data\n",
    "\n",
    "(x_train,y_train),(x_test,y_test) = mnist.load_data()"
   ]
  },
  {
   "cell_type": "code",
   "execution_count": 3,
   "id": "6e40ebe9",
   "metadata": {},
   "outputs": [
    {
     "name": "stdout",
     "output_type": "stream",
     "text": [
      "(60000, 28, 28)\n",
      "(10000, 28, 28)\n"
     ]
    }
   ],
   "source": [
    "print(x_train.shape)\n",
    "print(x_test.shape)"
   ]
  },
  {
   "cell_type": "code",
   "execution_count": 4,
   "id": "cf9ee39a",
   "metadata": {},
   "outputs": [
    {
     "name": "stdout",
     "output_type": "stream",
     "text": [
      "(60000,)\n",
      "(10000,)\n"
     ]
    }
   ],
   "source": [
    "print(y_train.shape)\n",
    "print(y_test.shape)"
   ]
  },
  {
   "cell_type": "code",
   "execution_count": 5,
   "id": "d8c07ca1",
   "metadata": {},
   "outputs": [
    {
     "data": {
      "text/plain": [
       "array([[  0,   0,   0,   0,   0,   0,   0,   0,   0,   0,   0,   0,   0,\n",
       "          0,   0,   0,   0,   0,   0,   0,   0,   0,   0,   0,   0,   0,\n",
       "          0,   0],\n",
       "       [  0,   0,   0,   0,   0,   0,   0,   0,   0,   0,   0,   0,   0,\n",
       "          0,   0,   0,   0,   0,   0,   0,   0,   0,   0,   0,   0,   0,\n",
       "          0,   0],\n",
       "       [  0,   0,   0,   0,   0,   0,   0,   0,   0,   0,   0,   0,   0,\n",
       "          0,   0,   0,   0,   0,   0,   0,   0,   0,   0,   0,   0,   0,\n",
       "          0,   0],\n",
       "       [  0,   0,   0,   0,   0,   0,   0,   0,   0,   0,   0,   0,   0,\n",
       "          0,   0,   0,   0,   0,   0,   0,   0,   0,   0,   0,   0,   0,\n",
       "          0,   0],\n",
       "       [  0,   0,   0,   0,   0,   0,   0,   0,   0,   0,   0,   0,   0,\n",
       "          0,   0,   0,   0,   0,   0,   0,   0,   0,   0,   0,   0,   0,\n",
       "          0,   0],\n",
       "       [  0,   0,   0,   0,   0,   0,   0,   0,   0,   0,   0,   0,   3,\n",
       "         18,  18,  18, 126, 136, 175,  26, 166, 255, 247, 127,   0,   0,\n",
       "          0,   0],\n",
       "       [  0,   0,   0,   0,   0,   0,   0,   0,  30,  36,  94, 154, 170,\n",
       "        253, 253, 253, 253, 253, 225, 172, 253, 242, 195,  64,   0,   0,\n",
       "          0,   0],\n",
       "       [  0,   0,   0,   0,   0,   0,   0,  49, 238, 253, 253, 253, 253,\n",
       "        253, 253, 253, 253, 251,  93,  82,  82,  56,  39,   0,   0,   0,\n",
       "          0,   0],\n",
       "       [  0,   0,   0,   0,   0,   0,   0,  18, 219, 253, 253, 253, 253,\n",
       "        253, 198, 182, 247, 241,   0,   0,   0,   0,   0,   0,   0,   0,\n",
       "          0,   0],\n",
       "       [  0,   0,   0,   0,   0,   0,   0,   0,  80, 156, 107, 253, 253,\n",
       "        205,  11,   0,  43, 154,   0,   0,   0,   0,   0,   0,   0,   0,\n",
       "          0,   0],\n",
       "       [  0,   0,   0,   0,   0,   0,   0,   0,   0,  14,   1, 154, 253,\n",
       "         90,   0,   0,   0,   0,   0,   0,   0,   0,   0,   0,   0,   0,\n",
       "          0,   0],\n",
       "       [  0,   0,   0,   0,   0,   0,   0,   0,   0,   0,   0, 139, 253,\n",
       "        190,   2,   0,   0,   0,   0,   0,   0,   0,   0,   0,   0,   0,\n",
       "          0,   0],\n",
       "       [  0,   0,   0,   0,   0,   0,   0,   0,   0,   0,   0,  11, 190,\n",
       "        253,  70,   0,   0,   0,   0,   0,   0,   0,   0,   0,   0,   0,\n",
       "          0,   0],\n",
       "       [  0,   0,   0,   0,   0,   0,   0,   0,   0,   0,   0,   0,  35,\n",
       "        241, 225, 160, 108,   1,   0,   0,   0,   0,   0,   0,   0,   0,\n",
       "          0,   0],\n",
       "       [  0,   0,   0,   0,   0,   0,   0,   0,   0,   0,   0,   0,   0,\n",
       "         81, 240, 253, 253, 119,  25,   0,   0,   0,   0,   0,   0,   0,\n",
       "          0,   0],\n",
       "       [  0,   0,   0,   0,   0,   0,   0,   0,   0,   0,   0,   0,   0,\n",
       "          0,  45, 186, 253, 253, 150,  27,   0,   0,   0,   0,   0,   0,\n",
       "          0,   0],\n",
       "       [  0,   0,   0,   0,   0,   0,   0,   0,   0,   0,   0,   0,   0,\n",
       "          0,   0,  16,  93, 252, 253, 187,   0,   0,   0,   0,   0,   0,\n",
       "          0,   0],\n",
       "       [  0,   0,   0,   0,   0,   0,   0,   0,   0,   0,   0,   0,   0,\n",
       "          0,   0,   0,   0, 249, 253, 249,  64,   0,   0,   0,   0,   0,\n",
       "          0,   0],\n",
       "       [  0,   0,   0,   0,   0,   0,   0,   0,   0,   0,   0,   0,   0,\n",
       "          0,  46, 130, 183, 253, 253, 207,   2,   0,   0,   0,   0,   0,\n",
       "          0,   0],\n",
       "       [  0,   0,   0,   0,   0,   0,   0,   0,   0,   0,   0,   0,  39,\n",
       "        148, 229, 253, 253, 253, 250, 182,   0,   0,   0,   0,   0,   0,\n",
       "          0,   0],\n",
       "       [  0,   0,   0,   0,   0,   0,   0,   0,   0,   0,  24, 114, 221,\n",
       "        253, 253, 253, 253, 201,  78,   0,   0,   0,   0,   0,   0,   0,\n",
       "          0,   0],\n",
       "       [  0,   0,   0,   0,   0,   0,   0,   0,  23,  66, 213, 253, 253,\n",
       "        253, 253, 198,  81,   2,   0,   0,   0,   0,   0,   0,   0,   0,\n",
       "          0,   0],\n",
       "       [  0,   0,   0,   0,   0,   0,  18, 171, 219, 253, 253, 253, 253,\n",
       "        195,  80,   9,   0,   0,   0,   0,   0,   0,   0,   0,   0,   0,\n",
       "          0,   0],\n",
       "       [  0,   0,   0,   0,  55, 172, 226, 253, 253, 253, 253, 244, 133,\n",
       "         11,   0,   0,   0,   0,   0,   0,   0,   0,   0,   0,   0,   0,\n",
       "          0,   0],\n",
       "       [  0,   0,   0,   0, 136, 253, 253, 253, 212, 135, 132,  16,   0,\n",
       "          0,   0,   0,   0,   0,   0,   0,   0,   0,   0,   0,   0,   0,\n",
       "          0,   0],\n",
       "       [  0,   0,   0,   0,   0,   0,   0,   0,   0,   0,   0,   0,   0,\n",
       "          0,   0,   0,   0,   0,   0,   0,   0,   0,   0,   0,   0,   0,\n",
       "          0,   0],\n",
       "       [  0,   0,   0,   0,   0,   0,   0,   0,   0,   0,   0,   0,   0,\n",
       "          0,   0,   0,   0,   0,   0,   0,   0,   0,   0,   0,   0,   0,\n",
       "          0,   0],\n",
       "       [  0,   0,   0,   0,   0,   0,   0,   0,   0,   0,   0,   0,   0,\n",
       "          0,   0,   0,   0,   0,   0,   0,   0,   0,   0,   0,   0,   0,\n",
       "          0,   0]], dtype=uint8)"
      ]
     },
     "execution_count": 5,
     "metadata": {},
     "output_type": "execute_result"
    }
   ],
   "source": [
    "#Understanding the data\n",
    "\n",
    "x_train[0]"
   ]
  },
  {
   "cell_type": "code",
   "execution_count": 6,
   "id": "ebb0b99d",
   "metadata": {},
   "outputs": [
    {
     "data": {
      "text/plain": [
       "5"
      ]
     },
     "execution_count": 6,
     "metadata": {},
     "output_type": "execute_result"
    }
   ],
   "source": [
    "y_train[0]"
   ]
  },
  {
   "cell_type": "code",
   "execution_count": 7,
   "id": "05e56c8f",
   "metadata": {},
   "outputs": [
    {
     "data": {
      "text/plain": [
       "<matplotlib.image.AxesImage at 0x1d630869d90>"
      ]
     },
     "execution_count": 7,
     "metadata": {},
     "output_type": "execute_result"
    },
    {
     "data": {
      "image/png": "[encoded data removed]",
      "text/plain": [
       "<Figure size 640x480 with 1 Axes>"
      ]
     },
     "metadata": {},
     "output_type": "display_data"
    }
   ],
   "source": [
    "import matplotlib.pyplot as plt\n",
    "plt.imshow(x_train[0])"
   ]
  },
  {
   "cell_type": "code",
   "execution_count": 8,
   "id": "619eb0fc",
   "metadata": {},
   "outputs": [
    {
     "data": {
      "text/plain": [
       "(60000,)"
      ]
     },
     "execution_count": 8,
     "metadata": {},
     "output_type": "execute_result"
    }
   ],
   "source": [
    "y_train.shape"
   ]
  },
  {
   "cell_type": "code",
   "execution_count": 9,
   "id": "4ce03311",
   "metadata": {},
   "outputs": [
    {
     "data": {
      "text/plain": [
       "(10000, 28, 28)"
      ]
     },
     "execution_count": 9,
     "metadata": {},
     "output_type": "execute_result"
    }
   ],
   "source": [
    "x_test.shape"
   ]
  },
  {
   "cell_type": "code",
   "execution_count": 10,
   "id": "3ce7a61c",
   "metadata": {},
   "outputs": [],
   "source": [
    "#Reshaping Dataset\n",
    "\n",
    "x_train = x_train.reshape(60000,28,28,1)\n",
    "x_test = x_test.reshape(10000,28,28,1)"
   ]
  },
  {
   "cell_type": "code",
   "execution_count": 11,
   "id": "e5db5ce6",
   "metadata": {},
   "outputs": [],
   "source": [
    "#one hot coding\n",
    "\n",
    "number_of_classes = 10\n",
    "y_train = np_utils.to_categorical(y_train, number_of_classes)\n",
    "y_test = np_utils.to_categorical(y_test, number_of_classes)"
   ]
  },
  {
   "cell_type": "code",
   "execution_count": 12,
   "id": "89c0a904",
   "metadata": {},
   "outputs": [
    {
     "data": {
      "text/plain": [
       "(60000, 10)"
      ]
     },
     "execution_count": 12,
     "metadata": {},
     "output_type": "execute_result"
    }
   ],
   "source": [
    "y_train.shape"
   ]
  },
  {
   "cell_type": "code",
   "execution_count": 13,
   "id": "bf8c8b62",
   "metadata": {},
   "outputs": [
    {
     "data": {
      "text/plain": [
       "array([0., 0., 0., 0., 0., 1., 0., 0., 0., 0.], dtype=float32)"
      ]
     },
     "execution_count": 13,
     "metadata": {},
     "output_type": "execute_result"
    }
   ],
   "source": [
    "y_train[0]"
   ]
  },
  {
   "cell_type": "code",
   "execution_count": 14,
   "id": "814327d2",
   "metadata": {},
   "outputs": [],
   "source": [
    "# Creating the Model\n",
    "\n",
    "model = Sequential()\n",
    "model.add(Conv2D(64,(3,3), input_shape=(28,28,1), activation='relu'))\n",
    "model.add(Conv2D(32,(3,3), activation='relu'))\n",
    "model.add(Flatten())\n",
    "model.add(Dense(number_of_classes, activation='softmax'))\n"
   ]
  },
  {
   "cell_type": "code",
   "execution_count": 15,
   "id": "6f097ff8",
   "metadata": {},
   "outputs": [],
   "source": [
    "#Compiling the Model\n",
    "\n",
    "model.compile(loss='categorical_crossentropy',optimizer=\"Adam\",metrics=['accuracy'])"
   ]
  },
  {
   "cell_type": "code",
   "execution_count": 16,
   "id": "6c109ef2",
   "metadata": {},
   "outputs": [
    {
     "name": "stdout",
     "output_type": "stream",
     "text": [
      "Epoch 1/50\n",
      "1875/1875 [==============================] - 85s 45ms/step - loss: 0.2234 - accuracy: 0.9498 - val_loss: 0.0871 - val_accuracy: 0.9717\n",
      "Epoch 2/50\n",
      "1875/1875 [==============================] - 85s 45ms/step - loss: 0.0703 - accuracy: 0.9789 - val_loss: 0.0822 - val_accuracy: 0.9731\n",
      "Epoch 3/50\n",
      "1875/1875 [==============================] - 87s 46ms/step - loss: 0.0483 - accuracy: 0.9848 - val_loss: 0.0861 - val_accuracy: 0.9784\n",
      "Epoch 4/50\n",
      "1875/1875 [==============================] - 84s 45ms/step - loss: 0.0363 - accuracy: 0.9889 - val_loss: 0.1030 - val_accuracy: 0.9764\n",
      "Epoch 5/50\n",
      "1875/1875 [==============================] - 92s 49ms/step - loss: 0.0284 - accuracy: 0.9913 - val_loss: 0.1074 - val_accuracy: 0.9762\n",
      "Epoch 6/50\n",
      "1875/1875 [==============================] - 86s 46ms/step - loss: 0.0242 - accuracy: 0.9926 - val_loss: 0.1170 - val_accuracy: 0.9758\n",
      "Epoch 7/50\n",
      "1875/1875 [==============================] - 85s 46ms/step - loss: 0.0196 - accuracy: 0.9940 - val_loss: 0.1181 - val_accuracy: 0.9778\n",
      "Epoch 8/50\n",
      "1875/1875 [==============================] - 85s 45ms/step - loss: 0.0154 - accuracy: 0.9957 - val_loss: 0.1502 - val_accuracy: 0.9803\n",
      "Epoch 9/50\n",
      "1875/1875 [==============================] - 85s 45ms/step - loss: 0.0171 - accuracy: 0.9952 - val_loss: 0.1795 - val_accuracy: 0.9765\n",
      "Epoch 10/50\n",
      "1875/1875 [==============================] - 83s 44ms/step - loss: 0.0155 - accuracy: 0.9959 - val_loss: 0.2015 - val_accuracy: 0.9756\n",
      "Epoch 11/50\n",
      "1875/1875 [==============================] - 82s 44ms/step - loss: 0.0195 - accuracy: 0.9954 - val_loss: 0.1864 - val_accuracy: 0.9767\n",
      "Epoch 12/50\n",
      "1875/1875 [==============================] - 83s 44ms/step - loss: 0.0131 - accuracy: 0.9967 - val_loss: 0.2193 - val_accuracy: 0.9750\n",
      "Epoch 13/50\n",
      "1875/1875 [==============================] - 87s 46ms/step - loss: 0.0158 - accuracy: 0.9965 - val_loss: 0.2400 - val_accuracy: 0.9758\n",
      "Epoch 14/50\n",
      "1875/1875 [==============================] - 88s 47ms/step - loss: 0.0159 - accuracy: 0.9966 - val_loss: 0.2338 - val_accuracy: 0.9767\n",
      "Epoch 15/50\n",
      "1875/1875 [==============================] - 84s 45ms/step - loss: 0.0123 - accuracy: 0.9974 - val_loss: 0.2664 - val_accuracy: 0.9773\n",
      "Epoch 16/50\n",
      "1875/1875 [==============================] - 83s 44ms/step - loss: 0.0134 - accuracy: 0.9971 - val_loss: 0.2662 - val_accuracy: 0.9793\n",
      "Epoch 17/50\n",
      "1875/1875 [==============================] - 83s 44ms/step - loss: 0.0138 - accuracy: 0.9969 - val_loss: 0.3022 - val_accuracy: 0.9778\n",
      "Epoch 18/50\n",
      "1875/1875 [==============================] - 83s 44ms/step - loss: 0.0177 - accuracy: 0.9972 - val_loss: 0.3373 - val_accuracy: 0.9790\n",
      "Epoch 19/50\n",
      "1875/1875 [==============================] - 178s 95ms/step - loss: 0.0142 - accuracy: 0.9977 - val_loss: 0.3938 - val_accuracy: 0.9767\n",
      "Epoch 20/50\n",
      "1875/1875 [==============================] - 83s 44ms/step - loss: 0.0149 - accuracy: 0.9976 - val_loss: 0.4326 - val_accuracy: 0.9780\n",
      "Epoch 21/50\n",
      "1875/1875 [==============================] - 83s 44ms/step - loss: 0.0148 - accuracy: 0.9977 - val_loss: 0.3704 - val_accuracy: 0.9785\n",
      "Epoch 22/50\n",
      "1875/1875 [==============================] - 83s 44ms/step - loss: 0.0151 - accuracy: 0.9977 - val_loss: 0.5079 - val_accuracy: 0.9784\n",
      "Epoch 23/50\n",
      "1875/1875 [==============================] - 83s 44ms/step - loss: 0.0166 - accuracy: 0.9979 - val_loss: 0.4975 - val_accuracy: 0.9779\n",
      "Epoch 24/50\n",
      "1875/1875 [==============================] - 83s 44ms/step - loss: 0.0167 - accuracy: 0.9979 - val_loss: 0.3962 - val_accuracy: 0.9793\n",
      "Epoch 25/50\n",
      "1875/1875 [==============================] - 83s 44ms/step - loss: 0.0122 - accuracy: 0.9984 - val_loss: 0.4483 - val_accuracy: 0.9785\n",
      "Epoch 26/50\n",
      "1875/1875 [==============================] - 933s 498ms/step - loss: 0.0146 - accuracy: 0.9979 - val_loss: 0.4101 - val_accuracy: 0.9814\n",
      "Epoch 27/50\n",
      "1875/1875 [==============================] - 84s 45ms/step - loss: 0.0117 - accuracy: 0.9984 - val_loss: 0.4498 - val_accuracy: 0.9797\n",
      "Epoch 28/50\n",
      "1875/1875 [==============================] - 83s 44ms/step - loss: 0.0143 - accuracy: 0.9984 - val_loss: 0.4707 - val_accuracy: 0.9795\n",
      "Epoch 29/50\n",
      "1875/1875 [==============================] - 455s 243ms/step - loss: 0.0147 - accuracy: 0.9982 - val_loss: 0.5483 - val_accuracy: 0.9796\n",
      "Epoch 30/50\n",
      "1875/1875 [==============================] - 83s 45ms/step - loss: 0.0168 - accuracy: 0.9982 - val_loss: 0.5666 - val_accuracy: 0.9789\n",
      "Epoch 31/50\n",
      "1875/1875 [==============================] - 87s 46ms/step - loss: 0.0113 - accuracy: 0.9988 - val_loss: 0.5429 - val_accuracy: 0.9810\n",
      "Epoch 32/50\n",
      "1875/1875 [==============================] - 72s 38ms/step - loss: 0.0138 - accuracy: 0.9986 - val_loss: 0.5936 - val_accuracy: 0.9804\n",
      "Epoch 33/50\n",
      "1875/1875 [==============================] - 60s 32ms/step - loss: 0.0133 - accuracy: 0.9987 - val_loss: 0.5819 - val_accuracy: 0.9799\n",
      "Epoch 34/50\n",
      "1875/1875 [==============================] - 60s 32ms/step - loss: 0.0194 - accuracy: 0.9985 - val_loss: 0.7854 - val_accuracy: 0.9788\n",
      "Epoch 35/50\n",
      "1875/1875 [==============================] - 59s 32ms/step - loss: 0.0141 - accuracy: 0.9986 - val_loss: 0.7108 - val_accuracy: 0.9786\n",
      "Epoch 36/50\n",
      "1875/1875 [==============================] - 59s 31ms/step - loss: 0.0114 - accuracy: 0.9990 - val_loss: 0.8185 - val_accuracy: 0.9791\n",
      "Epoch 37/50\n",
      "1875/1875 [==============================] - 61s 32ms/step - loss: 0.0154 - accuracy: 0.9987 - val_loss: 0.8864 - val_accuracy: 0.9776\n",
      "Epoch 38/50\n",
      "1875/1875 [==============================] - 60s 32ms/step - loss: 0.0185 - accuracy: 0.9984 - val_loss: 0.7629 - val_accuracy: 0.9804\n",
      "Epoch 39/50\n",
      "1875/1875 [==============================] - 62s 33ms/step - loss: 0.0166 - accuracy: 0.9984 - val_loss: 0.9623 - val_accuracy: 0.9777\n",
      "Epoch 40/50\n",
      "1875/1875 [==============================] - 63s 33ms/step - loss: 0.0199 - accuracy: 0.9988 - val_loss: 0.9106 - val_accuracy: 0.9792\n",
      "Epoch 41/50\n",
      "1875/1875 [==============================] - 63s 33ms/step - loss: 0.0138 - accuracy: 0.9989 - val_loss: 0.9657 - val_accuracy: 0.9805\n",
      "Epoch 42/50\n",
      "1875/1875 [==============================] - 63s 33ms/step - loss: 0.0166 - accuracy: 0.9989 - val_loss: 0.9163 - val_accuracy: 0.9801\n",
      "Epoch 43/50\n",
      "1875/1875 [==============================] - 63s 34ms/step - loss: 0.0106 - accuracy: 0.9991 - val_loss: 0.9686 - val_accuracy: 0.9799\n",
      "Epoch 44/50\n",
      "1875/1875 [==============================] - 64s 34ms/step - loss: 0.0223 - accuracy: 0.9986 - val_loss: 1.0843 - val_accuracy: 0.9798\n",
      "Epoch 45/50\n",
      "1875/1875 [==============================] - 63s 33ms/step - loss: 0.0156 - accuracy: 0.9988 - val_loss: 1.0321 - val_accuracy: 0.9793\n",
      "Epoch 46/50\n",
      "1875/1875 [==============================] - 63s 34ms/step - loss: 0.0157 - accuracy: 0.9991 - val_loss: 1.0753 - val_accuracy: 0.9802\n",
      "Epoch 47/50\n",
      "1875/1875 [==============================] - 67s 35ms/step - loss: 0.0192 - accuracy: 0.9989 - val_loss: 1.1042 - val_accuracy: 0.9803\n",
      "Epoch 48/50\n",
      "1875/1875 [==============================] - 66s 35ms/step - loss: 0.0282 - accuracy: 0.9989 - val_loss: 1.1841 - val_accuracy: 0.9797\n",
      "Epoch 49/50\n",
      "1875/1875 [==============================] - 63s 34ms/step - loss: 0.0113 - accuracy: 0.9994 - val_loss: 1.0969 - val_accuracy: 0.9819\n",
      "Epoch 50/50\n",
      "1875/1875 [==============================] - 65s 35ms/step - loss: 0.0163 - accuracy: 0.9991 - val_loss: 1.0657 - val_accuracy: 0.9820\n"
     ]
    },
    {
     "data": {
      "text/plain": [
       "<keras.callbacks.History at 0x1d6324a2280>"
      ]
     },
     "execution_count": 16,
     "metadata": {},
     "output_type": "execute_result"
    }
   ],
   "source": [
    "#Filling the model\n",
    "\n",
    "model.fit(x_train, y_train, validation_data=(x_test, y_test),epochs=50)"
   ]
  },
  {
   "cell_type": "code",
   "execution_count": 17,
   "id": "9d266a1f",
   "metadata": {},
   "outputs": [
    {
     "name": "stdout",
     "output_type": "stream",
     "text": [
      "Metrics(Test loss & Test Accuracy): \n",
      "[1.0656968355178833, 0.9819999933242798]\n"
     ]
    }
   ],
   "source": [
    "#Observing the metrics \n",
    "\n",
    "#final evaluation of the model\n",
    "\n",
    "metrics = model.evaluate(x_test,y_test,verbose=0)\n",
    "print(\"Metrics(Test loss & Test Accuracy): \")\n",
    "print(metrics)"
   ]
  },
  {
   "cell_type": "code",
   "execution_count": 18,
   "id": "b1518357",
   "metadata": {},
   "outputs": [
    {
     "name": "stdout",
     "output_type": "stream",
     "text": [
      "1/1 [==============================] - 0s 193ms/step\n",
      "[[0. 0. 0. 0. 0. 0. 0. 1. 0. 0.]\n",
      " [0. 0. 1. 0. 0. 0. 0. 0. 0. 0.]\n",
      " [0. 1. 0. 0. 0. 0. 0. 0. 0. 0.]\n",
      " [1. 0. 0. 0. 0. 0. 0. 0. 0. 0.]]\n"
     ]
    }
   ],
   "source": [
    "#Predicting the output\n",
    "\n",
    "prediction=model.predict(x_test[:4])\n",
    "print(prediction)"
   ]
  },
  {
   "cell_type": "code",
   "execution_count": 19,
   "id": "dc209610",
   "metadata": {},
   "outputs": [],
   "source": [
    "#Saving the model\n",
    "\n",
    "#save the model\n",
    "model.save('models/mnistCNN.h5')"
   ]
  },
  {
   "cell_type": "code",
   "execution_count": 20,
   "id": "5c09580f",
   "metadata": {},
   "outputs": [],
   "source": [
    "#Taking images as input and checking results\n",
    "\n",
    "#importing the keras libraries and packages\n",
    "\n",
    "from tensorflow.keras.models import load_model\n",
    "model = load_model(r'C:\\Users\\BANDARI SANDEEP\\jupyterpython\\models\\mnistCNN.h5')\n",
    "\n",
    "    "
   ]
  },
  {
   "cell_type": "code",
   "execution_count": 21,
   "id": "bcb48681",
   "metadata": {},
   "outputs": [],
   "source": [
    "from PIL import Image\n",
    "import numpy as np\n",
    "\n",
    "\n"
   ]
  },
  {
   "cell_type": "code",
   "execution_count": 24,
   "id": "c519f44a",
   "metadata": {},
   "outputs": [],
   "source": [
    "img = Image.open('C:\\projectinputimage.jpg').convert(\"L\")  #convert image to monochrome\n"
   ]
  },
  {
   "cell_type": "code",
   "execution_count": 25,
   "id": "500b9c55",
   "metadata": {},
   "outputs": [],
   "source": [
    "img = img.resize((28,28))  #resizing of input image\n"
   ]
  },
  {
   "cell_type": "code",
   "execution_count": 26,
   "id": "2f174ef3",
   "metadata": {},
   "outputs": [
    {
     "name": "stdout",
     "output_type": "stream",
     "text": [
      "1/1 [==============================] - 0s 47ms/step\n",
      "[[0.09675271 0.15796441 0.09094648 0.082291   0.09104969 0.08750061\n",
      "  0.09517261 0.10598388 0.09427892 0.09805963]]\n"
     ]
    }
   ],
   "source": [
    "im2arr = np.array(img)   #converting to image\n",
    "im2arr = im2arr.reshape(1,28,28,1)   #reshaping according to our requirement\n",
    "    \n",
    "#Predicting the Test set results\n",
    "y_pred = model.predict(im2arr)   #predicting the results\n",
    "print(y_pred)"
   ]
  },
  {
   "cell_type": "code",
   "execution_count": null,
   "id": "3094e9a0",
   "metadata": {},
   "outputs": [],
   "source": []
  }
 ],
 "metadata": {
  "kernelspec": {
   "display_name": "Python 3 (ipykernel)",
   "language": "python",
   "name": "python3"
  },
  "language_info": {
   "codemirror_mode": {
    "name": "ipython",
    "version": 3
   },
   "file_extension": ".py",
   "mimetype": "text/x-python",
   "name": "python",
   "nbconvert_exporter": "python",
   "pygments_lexer": "ipython3",
   "version": "3.9.13"
  }
 },
 "nbformat": 4,
 "nbformat_minor": 5
}
